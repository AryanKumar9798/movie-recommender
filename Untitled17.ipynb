{
  "nbformat": 4,
  "nbformat_minor": 0,
  "metadata": {
    "colab": {
      "provenance": [],
      "authorship_tag": "ABX9TyOM65qjEp9o1LqRC+EgmHO/",
      "include_colab_link": true
    },
    "kernelspec": {
      "name": "python3",
      "display_name": "Python 3"
    },
    "language_info": {
      "name": "python"
    }
  },
  "cells": [
    {
      "cell_type": "markdown",
      "metadata": {
        "id": "view-in-github",
        "colab_type": "text"
      },
      "source": [
        "<a href=\"https://colab.research.google.com/github/AryanKumar9798/movie-recommender/blob/main/Untitled17.ipynb\" target=\"_parent\"><img src=\"https://colab.research.google.com/assets/colab-badge.svg\" alt=\"Open In Colab\"/></a>"
      ]
    },
    {
      "cell_type": "code",
      "execution_count": 1,
      "metadata": {
        "id": "bqPXL0WvzOMf"
      },
      "outputs": [],
      "source": [
        "import pandas as pd\n",
        "from sklearn.feature_extraction.text import TfidfVectorizer\n",
        "from sklearn.metrics.pairwise import cosine_similarity"
      ]
    },
    {
      "cell_type": "code",
      "source": [
        "movies = pd.read_csv(\"tmdb_5000_movies.csv\")"
      ],
      "metadata": {
        "id": "SFWbTOFNzYWx"
      },
      "execution_count": 2,
      "outputs": []
    },
    {
      "cell_type": "code",
      "source": [
        "#keep only useful columns\n",
        "movies = movies[[\"title\", \"overview\"]].dropna().reset_index(drop=True)"
      ],
      "metadata": {
        "id": "tShO4hpizZiw"
      },
      "execution_count": 3,
      "outputs": []
    },
    {
      "cell_type": "code",
      "source": [
        "#Convert overview text into numerical form using TF-IDF\n",
        "tfidf = TfidfVectorizer(stop_words=\"english\")\n",
        "overview_matrix = tfidf.fit_transform(movies[\"overview\"])"
      ],
      "metadata": {
        "id": "cd9fdxuuzccU"
      },
      "execution_count": 4,
      "outputs": []
    },
    {
      "cell_type": "code",
      "source": [
        "#Computing similaity between all the movies\n",
        "similarity_matrix = cosine_similarity(overview_matrix, overview_matrix)"
      ],
      "metadata": {
        "id": "tlgNeCYFzgtv"
      },
      "execution_count": 5,
      "outputs": []
    },
    {
      "cell_type": "code",
      "source": [
        "def recommend(movie_name, top_n=5):\n",
        "    matches = movies[movies['title'].str.lower() == movie_name.lower()]\n",
        "\n",
        "    if matches.empty:\n",
        "        return [f\"❌ Sorry, '{movie_name}' not found in the dataset.\"]\n",
        "\n",
        "    idx = matches.index[0]\n",
        "    sim_scores = list(enumerate(similarity_matrix[idx]))\n",
        "    sim_scores = sorted(sim_scores, key=lambda x: x[1], reverse=True)\n",
        "    sim_scores = sim_scores[1:top_n+1]\n",
        "    movie_indices = [i[0] for i in sim_scores]\n",
        "    return movies['title'].iloc[movie_indices].tolist()\n"
      ],
      "metadata": {
        "id": "VkEgO_NFziLc"
      },
      "execution_count": 7,
      "outputs": []
    },
    {
      "cell_type": "code",
      "source": [
        "if __name__ == \"__main__\":\n",
        "    user_movie = input(\"🎬 Enter a movie name: \")\n",
        "    recommendations = recommend(user_movie, top_n=5)\n",
        "    print(\"\\n✨ Recommended Movies:\")\n",
        "    for i, rec in enumerate(recommendations, start=1):\n",
        "        print(f\"{i}. {rec}\")"
      ],
      "metadata": {
        "colab": {
          "base_uri": "https://localhost:8080/"
        },
        "id": "uKQxZRO2zpaf",
        "outputId": "08cdcf61-6e5f-43a8-e0f3-b11b6d2bafb0"
      },
      "execution_count": 10,
      "outputs": [
        {
          "output_type": "stream",
          "name": "stdout",
          "text": [
            "🎬 Enter a movie name: Avatar\n",
            "\n",
            "✨ Recommended Movies:\n",
            "1. Apollo 18\n",
            "2. The American\n",
            "3. The Matrix\n",
            "4. The Inhabited Island\n",
            "5. Tears of the Sun\n"
          ]
        }
      ]
    }
  ]
}